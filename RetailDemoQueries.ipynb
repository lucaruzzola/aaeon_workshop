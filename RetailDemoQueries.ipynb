{
 "cells": [
  {
   "cell_type": "markdown",
   "metadata": {},
   "source": [
    "# Retail Suite Demo\n",
    "[![aim2](./assets/aim2.png)](https://www.youtube.com/watch?v=6URZhvByKGg)\n",
    "\n",
    "### Luca Ruzzola, Machine Learning Engineer @ aim2.io\n",
    "\n",
    "\n",
    "Retail Suite is **aim2**'s solution for providing detailed KPIs for brand exposure and customer analytics in stores and retail locations.\n",
    "All of the information processing is done directly on the device where the Suite is installed, leveraging on the edge AI, without ever storing people's photos or videos, or calling external APIs, putting strong emphasis on customer privacy.\n",
    "\n",
    "\n",
    "In Contextual mode, Retail Suite extracts and tracks demographic and behavioural information such as age, gender and emotional state of the customers, providing valuable information about the context in which the kit is installed. Through the API you can get custom KPIs such as the distribution of the age and gender of customers by day of week of the last month, so that you can get to know your customers better.\n",
    "\n",
    "### In this hands on session we'll see what kind of KPIs you can easily extract from Retail Suite, a complete AI on the edge solution."
   ]
  },
  {
   "cell_type": "markdown",
   "metadata": {},
   "source": [
    "## Setup"
   ]
  },
  {
   "cell_type": "code",
   "execution_count": 1,
   "metadata": {},
   "outputs": [],
   "source": [
    "import requests\n",
    "import matplotlib.pyplot as plt\n",
    "%matplotlib inline"
   ]
  },
  {
   "cell_type": "markdown",
   "metadata": {},
   "source": [
    "## Get last month aggregation\n",
    "Get the aggregation on a variable in relation with a dimension, in the last 4 weeks.\n",
    "\n",
    "In this case, we are asking for the average age of the customers, per gender, in the last 4 weeks.\n",
    "\n"
   ]
  },
  {
   "cell_type": "code",
   "execution_count": 2,
   "metadata": {},
   "outputs": [],
   "source": [
    "IP = \"http://127.0.0.1:5000\""
   ]
  },
  {
   "cell_type": "code",
   "execution_count": 3,
   "metadata": {},
   "outputs": [
    {
     "data": {
      "text/plain": [
       "{'female': 26.523809523809526, 'male': 30.016666666666666}"
      ]
     },
     "execution_count": 3,
     "metadata": {},
     "output_type": "execute_result"
    }
   ],
   "source": [
    "last_mo_agg = requests.get(IP + \"/v1/contextMode/getLastMonthAggregation?dimension=gender&variable=age&aggregation=avg\")\n",
    "last_mo_agg_data = last_mo_agg.json()[\"data\"]\n",
    "last_mo_agg_data"
   ]
  },
  {
   "cell_type": "code",
   "execution_count": 4,
   "metadata": {},
   "outputs": [
    {
     "data": {
      "image/png": "[encoded data removed]",
      "text/plain": [
       "<Figure size 432x288 with 1 Axes>"
      ]
     },
     "metadata": {
      "needs_background": "light"
     },
     "output_type": "display_data"
    }
   ],
   "source": [
    "last_mo_age = [elem[1] for elem in last_mo_agg_data.items()]\n",
    "last_mo_gender = [elem[0] for elem in last_mo_agg_data.items()]\n",
    "barlist = plt.bar(last_mo_gender, last_mo_age)\n",
    "barlist[0].set_color('g')\n",
    "barlist[1].set_color('r')\n",
    "plt.show()"
   ]
  },
  {
   "cell_type": "markdown",
   "metadata": {},
   "source": [
    "## Get last hour aggregation\n",
    "Get the aggregation on a variable in relation with a dimension, in the last hour.\n",
    "\n",
    "In this case, we are asking for the average focus level of the customers, per age, in the last hour.\n",
    "\n"
   ]
  },
  {
   "cell_type": "code",
   "execution_count": 5,
   "metadata": {},
   "outputs": [
    {
     "data": {
      "text/plain": [
       "{'28': 0.7815495254519645, '33': 0.9777777777777779, '36': 0.0}"
      ]
     },
     "execution_count": 5,
     "metadata": {},
     "output_type": "execute_result"
    }
   ],
   "source": [
    "last_hh_agg_focus_level = requests.get(IP+\"/v1/contextMode/getLastHhAggregation?dimension=age&variable=focus&aggregation=avg\")\n",
    "last_hh_agg_focus_level_data = last_hh_agg_focus_level.json()[\"data\"]\n",
    "last_hh_agg_focus_level_data"
   ]
  },
  {
   "cell_type": "code",
   "execution_count": 6,
   "metadata": {},
   "outputs": [
    {
     "data": {
      "image/png": "[encoded data removed]",
      "text/plain": [
       "<Figure size 432x288 with 1 Axes>"
      ]
     },
     "metadata": {
      "needs_background": "light"
     },
     "output_type": "display_data"
    }
   ],
   "source": [
    "last_hh_age = [elem[0] for elem in last_hh_agg_focus_level_data.items()]\n",
    "last_hh_focus_level = [elem[1] for elem in last_hh_agg_focus_level_data.items()]\n",
    "plt.bar(last_hh_age,last_hh_focus_level)\n",
    "plt.show()"
   ]
  },
  {
   "cell_type": "markdown",
   "metadata": {},
   "source": [
    "## Get last month distribution\n",
    "Get the distribution of a variable in relation with a dimension, in the last 4 weeks.\n",
    "\n",
    "In this case, we are asking for the distribution of the age level with regard to the gender of the customers in the last 4 weeks.\n"
   ]
  },
  {
   "cell_type": "code",
   "execution_count": 7,
   "metadata": {},
   "outputs": [
    {
     "data": {
      "text/plain": [
       "{'female': {'anger': 0.027059990662931837,\n",
       "  'happy': 0.36138096972692435,\n",
       "  'neutral': 0.5185141069336178,\n",
       "  'sad': 0.02124225141779621,\n",
       "  'surprise': 0.07180268125872986},\n",
       " 'male': {'anger': 0.2112235759483866,\n",
       "  'happy': 0.06790538969077811,\n",
       "  'neutral': 0.4631216193069944,\n",
       "  'sad': 0.14418981571948578,\n",
       "  'surprise': 0.11355959933435517}}"
      ]
     },
     "execution_count": 7,
     "metadata": {},
     "output_type": "execute_result"
    }
   ],
   "source": [
    "last_mo_dist = requests.get(IP+\"/v1/contextMode/getLastMonthDistribution?dimension=gender&variable=emotion\")\n",
    "last_mo_dist_data = last_mo_dist.json()[\"data\"]\n",
    "last_mo_dist_data"
   ]
  },
  {
   "cell_type": "code",
   "execution_count": 8,
   "metadata": {},
   "outputs": [
    {
     "data": {
      "image/png": "[encoded data removed]",
      "text/plain": [
       "<Figure size 432x288 with 1 Axes>"
      ]
     },
     "metadata": {
      "needs_background": "light"
     },
     "output_type": "display_data"
    }
   ],
   "source": [
    "last_mo_emo_perc_male = [float(elem[1]*100) for elem in last_mo_dist_data[\"male\"].items()]\n",
    "last_mo_emo_perc_female = [float(elem[1]*100) for elem in last_mo_dist_data[\"female\"].items()]\n",
    "last_mo_emotion = [elem[0] for elem in last_mo_dist_data[\"male\"].items()]\n",
    "\n",
    "x = [0,1,2,3,4] \n",
    "width = 0.35      \n",
    "plt.bar(x, last_mo_emo_perc_male, width, label='Men')\n",
    "plt.bar(list(map(lambda xi: xi + width, x)), last_mo_emo_perc_female, width,\n",
    "    label='Women')\n",
    "\n",
    "plt.ylabel('Emotion percentage')\n",
    "plt.title('Emotion distribution by gender')\n",
    "\n",
    "plt.xticks(list(map(lambda xi: xi + width / 2, x)), ('anger', 'happy', 'neutral', 'sad', 'surprise'))\n",
    "plt.legend(loc='best')\n",
    "plt.show()"
   ]
  },
  {
   "cell_type": "markdown",
   "metadata": {},
   "source": [
    "## Get last hour distribution\n",
    "Get the distribution of a variable in relation with a dimension, in the last hour.\n",
    "\n",
    "In this case, we are asking for the distribution of the age level with regard to the gender of the customers in the last hour.\n"
   ]
  },
  {
   "cell_type": "code",
   "execution_count": 9,
   "metadata": {},
   "outputs": [
    {
     "data": {
      "text/plain": [
       "{'female': {'23': 0.09523809523809523,\n",
       "  '24': 0.09523809523809523,\n",
       "  '25': 0.2857142857142857,\n",
       "  '26': 0.19047619047619047,\n",
       "  '27': 0.047619047619047616,\n",
       "  '28': 0.047619047619047616,\n",
       "  '29': 0.09523809523809523,\n",
       "  '30': 0.047619047619047616,\n",
       "  '33': 0.09523809523809523},\n",
       " 'male': {'22': 0.03333333333333333,\n",
       "  '24': 0.06666666666666667,\n",
       "  '25': 0.03333333333333333,\n",
       "  '26': 0.08333333333333333,\n",
       "  '27': 0.15,\n",
       "  '28': 0.08333333333333333,\n",
       "  '29': 0.15,\n",
       "  '30': 0.08333333333333333,\n",
       "  '31': 0.05,\n",
       "  '32': 0.016666666666666666,\n",
       "  '33': 0.06666666666666667,\n",
       "  '34': 0.03333333333333333,\n",
       "  '36': 0.03333333333333333,\n",
       "  '37': 0.03333333333333333,\n",
       "  '41': 0.03333333333333333,\n",
       "  '42': 0.03333333333333333,\n",
       "  '50': 0.016666666666666666}}"
      ]
     },
     "execution_count": 9,
     "metadata": {},
     "output_type": "execute_result"
    }
   ],
   "source": [
    "last_hh_distrib = requests.get(IP+\"/v1/contextMode/getLastMonthDistribution?dimension=gender&variable=age\")\n",
    "last_hh_distrib_data = last_hh_distrib.json()[\"data\"]\n",
    "last_hh_distrib_data"
   ]
  },
  {
   "cell_type": "code",
   "execution_count": 10,
   "metadata": {},
   "outputs": [
    {
     "data": {
      "image/png": "[encoded data removed]",
      "text/plain": [
       "<Figure size 432x288 with 1 Axes>"
      ]
     },
     "metadata": {
      "needs_background": "light"
     },
     "output_type": "display_data"
    }
   ],
   "source": [
    "last_hh_age_perc_male = [float(elem[1]*100) for elem in last_hh_distrib_data[\"male\"].items()]\n",
    "last_hh_age_male = [elem[0] for elem in last_hh_distrib_data[\"male\"].items()]\n",
    "\n",
    "x = last_hh_age_male \n",
    "width = 0.35      \n",
    "plt.bar(x, last_hh_age_perc_male)\n",
    "\n",
    "plt.ylabel('Age percentage')\n",
    "plt.title('Age distribution of male clients in the last hour')\n",
    "\n",
    "plt.show()"
   ]
  },
  {
   "cell_type": "code",
   "execution_count": 11,
   "metadata": {},
   "outputs": [
    {
     "data": {
      "image/png": "[encoded data removed]",
      "text/plain": [
       "<Figure size 432x288 with 1 Axes>"
      ]
     },
     "metadata": {
      "needs_background": "light"
     },
     "output_type": "display_data"
    }
   ],
   "source": [
    "last_hh_age_perc_female = [float(elem[1]*100) for elem in last_hh_distrib_data[\"female\"].items()]\n",
    "last_hh_age_female = [elem[0] for elem in last_hh_distrib_data[\"female\"].items()]\n",
    "\n",
    "x = last_hh_age_female \n",
    "width = 0.35      \n",
    "plt.bar(x, last_hh_age_perc_female)\n",
    "\n",
    "plt.ylabel('Age percentage')\n",
    "plt.title('Age distribution of female clients in the last hour')\n",
    "\n",
    "plt.show()"
   ]
  },
  {
   "cell_type": "markdown",
   "metadata": {},
   "source": [
    "## Get Time Distribution\n",
    "Get the time distribution of a specific variable in a given time range. Optionally, you can also specify the time binning."
   ]
  },
  {
   "cell_type": "markdown",
   "metadata": {},
   "source": [
    "### In this case we are asking for the average age of the customers for day of the week over the month of march."
   ]
  },
  {
   "cell_type": "code",
   "execution_count": 12,
   "metadata": {},
   "outputs": [],
   "source": [
    "time_distrib_avg_age = requests.get(IP+\"/v1/contextMode/getTimeDistribution?start=01-03-2019&end=31-03-2019&variable=age&aggregation=avg&binning=dow\")"
   ]
  },
  {
   "cell_type": "code",
   "execution_count": 13,
   "metadata": {},
   "outputs": [
    {
     "data": {
      "text/plain": [
       "{'tuesday': 29.014285714285716, 'wednesday': 29.727272727272727}"
      ]
     },
     "execution_count": 13,
     "metadata": {},
     "output_type": "execute_result"
    }
   ],
   "source": [
    "time_distrib_avg_age.json()[\"data\"]"
   ]
  },
  {
   "cell_type": "code",
   "execution_count": 14,
   "metadata": {},
   "outputs": [
    {
     "data": {
      "image/png": "[encoded data removed]",
      "text/plain": [
       "<Figure size 432x288 with 1 Axes>"
      ]
     },
     "metadata": {
      "needs_background": "light"
     },
     "output_type": "display_data"
    }
   ],
   "source": [
    "avg_age = [elem[1] for elem in time_distrib_avg_age.json()[\"data\"].items()]\n",
    "days = [elem[0] for elem in time_distrib_avg_age.json()[\"data\"].items()]\n",
    "plt.scatter(days,avg_age)\n",
    "plt.show()"
   ]
  },
  {
   "cell_type": "markdown",
   "metadata": {},
   "source": [
    "### In this case we are asking for the count of customers for day of the week over the month of march."
   ]
  },
  {
   "cell_type": "code",
   "execution_count": 15,
   "metadata": {},
   "outputs": [],
   "source": [
    "time_distrib_count_people_by_day = requests.get(IP+\"/v1/contextMode/getTimeDistribution?start=01-03-2019&end=31-03-2019&variable=gender&aggregation=count&binning=dow\")"
   ]
  },
  {
   "cell_type": "code",
   "execution_count": 16,
   "metadata": {},
   "outputs": [
    {
     "data": {
      "text/plain": [
       "{'tuesday': 70, 'wednesday': 11}"
      ]
     },
     "execution_count": 16,
     "metadata": {},
     "output_type": "execute_result"
    }
   ],
   "source": [
    "time_distrib_count_people_by_day.json()[\"data\"]"
   ]
  },
  {
   "cell_type": "code",
   "execution_count": 17,
   "metadata": {},
   "outputs": [
    {
     "data": {
      "image/png": "[encoded data removed]",
      "text/plain": [
       "<Figure size 432x288 with 1 Axes>"
      ]
     },
     "metadata": {
      "needs_background": "light"
     },
     "output_type": "display_data"
    }
   ],
   "source": [
    "days = [elem[0] for elem in time_distrib_count_people_by_day.json()[\"data\"].items()]\n",
    "people_count = [elem[1] for elem in time_distrib_count_people_by_day.json()[\"data\"].items()]\n",
    "plt.bar(days,people_count)\n",
    "plt.show()"
   ]
  },
  {
   "cell_type": "markdown",
   "metadata": {},
   "source": [
    "### Distribution of customers emotions over the last month"
   ]
  },
  {
   "cell_type": "code",
   "execution_count": 18,
   "metadata": {},
   "outputs": [
    {
     "data": {
      "text/plain": [
       "{'emotion': {'anger': 0.16347746124475016,\n",
       "  'happy': 0.14399165118163085,\n",
       "  'neutral': 0.47748263461760054,\n",
       "  'sad': 0.11231452127089961,\n",
       "  'surprise': 0.10273373168511898}}"
      ]
     },
     "execution_count": 18,
     "metadata": {},
     "output_type": "execute_result"
    }
   ],
   "source": [
    "time_distrib_emotions = requests.get(IP+\"/v1/contextMode/getTimeDistribution?start=01-03-2019&end=31-03-2019&variable=emotion&aggregation=avg\")\n",
    "time_distrib_emotions.json()[\"data\"]"
   ]
  },
  {
   "cell_type": "code",
   "execution_count": 19,
   "metadata": {},
   "outputs": [
    {
     "data": {
      "image/png": "[encoded data removed]",
      "text/plain": [
       "<Figure size 432x288 with 1 Axes>"
      ]
     },
     "metadata": {},
     "output_type": "display_data"
    }
   ],
   "source": [
    "em_perc = [float(elem[1]*100) for elem in time_distrib_emotions.json()[\"data\"][\"emotion\"].items()]\n",
    "emotion = [elem[0] for elem in time_distrib_emotions.json()[\"data\"][\"emotion\"].items()]\n",
    "plt.pie(em_perc, labels=emotion)\n",
    "plt.show()"
   ]
  }
 ],
 "metadata": {
  "kernelspec": {
   "display_name": "Python 3",
   "language": "python",
   "name": "python3"
  },
  "language_info": {
   "codemirror_mode": {
    "name": "ipython",
    "version": 3
   },
   "file_extension": ".py",
   "mimetype": "text/x-python",
   "name": "python",
   "nbconvert_exporter": "python",
   "pygments_lexer": "ipython3",
   "version": "3.6.8"
  }
 },
 "nbformat": 4,
 "nbformat_minor": 2
}
