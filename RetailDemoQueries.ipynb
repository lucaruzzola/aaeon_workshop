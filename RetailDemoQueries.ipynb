{
 "cells": [
  {
   "cell_type": "markdown",
   "metadata": {
    "slideshow": {
     "slide_type": "slide"
    }
   },
   "source": [
    "# Retail Suite Demo\n",
    "[![aim2](./assets/aim2.png)](https://www.youtube.com/watch?v=6URZhvByKGg)\n",
    "\n",
    "### Luca Ruzzola, Machine Learning Engineer @ aim2.io"
   ]
  },
  {
   "cell_type": "markdown",
   "metadata": {
    "slideshow": {
     "slide_type": "subslide"
    }
   },
   "source": [
    "Retail Suite is **aim2**'s solution for providing detailed KPIs for brand exposure and customer analytics in stores and retail locations.\n",
    "All of the information processing is done directly on the device where the Suite is installed, leveraging on the edge AI, without ever storing people's photos or videos, or calling external APIs, putting strong emphasis on customer privacy.\n",
    "\n",
    "\n",
    "In Contextual mode, Retail Suite extracts and tracks demographic and behavioural information such as age, gender and emotional state of the customers, providing valuable information about the context in which the kit is installed. Through the API you can get custom KPIs such as the distribution of the age and gender of customers by day of week of the last month, so that you can get to know your customers better.\n",
    "\n",
    "### In this hands on session we'll see what kind of KPIs you can easily extract from Retail Suite, a complete AI on the edge solution."
   ]
  },
  {
   "cell_type": "markdown",
   "metadata": {
    "slideshow": {
     "slide_type": "skip"
    }
   },
   "source": [
    "## Setup"
   ]
  },
  {
   "cell_type": "code",
   "execution_count": 1,
   "metadata": {
    "slideshow": {
     "slide_type": "skip"
    }
   },
   "outputs": [],
   "source": [
    "import requests\n",
    "import matplotlib.pyplot as plt\n",
    "%matplotlib inline"
   ]
  },
  {
   "cell_type": "markdown",
   "metadata": {
    "slideshow": {
     "slide_type": "slide"
    }
   },
   "source": [
    "## Get last month aggregation\n",
    "Get the aggregation on a variable in relation with a dimension, in the last 4 weeks.\n",
    "\n",
    "In this case, we are asking for the average age of the customers, per gender, in the last 4 weeks.\n",
    "\n"
   ]
  },
  {
   "cell_type": "code",
   "execution_count": 2,
   "metadata": {
    "slideshow": {
     "slide_type": "skip"
    }
   },
   "outputs": [],
   "source": [
    "IP = \"http://127.0.0.1:5000\""
   ]
  },
  {
   "cell_type": "code",
   "execution_count": 3,
   "metadata": {
    "slideshow": {
     "slide_type": "subslide"
    }
   },
   "outputs": [
    {
     "data": {
      "text/plain": [
       "{'female': 27.304347826086957, 'male': 30.241935483870968}"
      ]
     },
     "execution_count": 3,
     "metadata": {},
     "output_type": "execute_result"
    }
   ],
   "source": [
    "last_mo_agg = requests.get(IP + \"/v1/contextMode/getLastMonthAggregation?dimension=gender&variable=age&aggregation=avg\")\n",
    "last_mo_agg_data = last_mo_agg.json()[\"data\"]\n",
    "last_mo_agg_data"
   ]
  },
  {
   "cell_type": "code",
   "execution_count": 4,
   "metadata": {
    "slideshow": {
     "slide_type": "subslide"
    }
   },
   "outputs": [
    {
     "data": {
      "image/png": "[encoded data removed]",
      "text/plain": [
       "<Figure size 432x288 with 1 Axes>"
      ]
     },
     "metadata": {
      "needs_background": "light"
     },
     "output_type": "display_data"
    }
   ],
   "source": [
    "last_mo_age = [elem[1] for elem in last_mo_agg_data.items()]\n",
    "last_mo_gender = [elem[0] for elem in last_mo_agg_data.items()]\n",
    "barlist = plt.bar(last_mo_gender, last_mo_age)\n",
    "barlist[0].set_color('g')\n",
    "barlist[1].set_color('r')\n",
    "plt.show()"
   ]
  },
  {
   "cell_type": "markdown",
   "metadata": {
    "slideshow": {
     "slide_type": "slide"
    }
   },
   "source": [
    "## Get last hour aggregation\n",
    "Get the aggregation on a variable in relation with a dimension, in the last hour.\n",
    "\n",
    "In this case, we are asking for the average focus level of the customers, per age, in the last hour.\n",
    "\n"
   ]
  },
  {
   "cell_type": "code",
   "execution_count": 5,
   "metadata": {
    "slideshow": {
     "slide_type": "subslide"
    }
   },
   "outputs": [
    {
     "data": {
      "text/plain": [
       "{'27': 1.0,\n",
       " '33': 0.855072463768116,\n",
       " '38': 0.967741935483871,\n",
       " '47': 0.8484848484848485}"
      ]
     },
     "execution_count": 5,
     "metadata": {},
     "output_type": "execute_result"
    }
   ],
   "source": [
    "last_hh_agg_focus_level = requests.get(IP+\"/v1/contextMode/getLastHhAggregation?dimension=age&variable=focus&aggregation=avg\")\n",
    "last_hh_agg_focus_level_data = last_hh_agg_focus_level.json()[\"data\"]\n",
    "last_hh_agg_focus_level_data"
   ]
  },
  {
   "cell_type": "code",
   "execution_count": 6,
   "metadata": {
    "slideshow": {
     "slide_type": "subslide"
    }
   },
   "outputs": [
    {
     "data": {
      "image/png": "[encoded data removed]",
      "text/plain": [
       "<Figure size 432x288 with 1 Axes>"
      ]
     },
     "metadata": {
      "needs_background": "light"
     },
     "output_type": "display_data"
    }
   ],
   "source": [
    "last_hh_age = [elem[0] for elem in last_hh_agg_focus_level_data.items()]\n",
    "last_hh_focus_level = [elem[1] for elem in last_hh_agg_focus_level_data.items()]\n",
    "plt.bar(last_hh_age,last_hh_focus_level)\n",
    "plt.show()"
   ]
  },
  {
   "cell_type": "markdown",
   "metadata": {
    "slideshow": {
     "slide_type": "slide"
    }
   },
   "source": [
    "## Get last month distribution\n",
    "Get the distribution of a variable in relation with a dimension, in the last 4 weeks.\n",
    "\n",
    "In this case, we are asking for the distribution of the age level with regard to the gender of the customers in the last 4 weeks.\n"
   ]
  },
  {
   "cell_type": "code",
   "execution_count": 7,
   "metadata": {
    "slideshow": {
     "slide_type": "subslide"
    }
   },
   "outputs": [
    {
     "data": {
      "text/plain": [
       "{'female': {'anger': 0.02470694799658994,\n",
       "  'happy': 0.37707323168412127,\n",
       "  'neutral': 0.49184168078035617,\n",
       "  'sad': 0.040819169694005494,\n",
       "  'surprise': 0.06555896984492726},\n",
       " 'male': {'anger': 0.2049859490744755,\n",
       "  'happy': 0.08184392550720462,\n",
       "  'neutral': 0.4597029495597642,\n",
       "  'sad': 0.143570789405954,\n",
       "  'surprise': 0.10989638645260177}}"
      ]
     },
     "execution_count": 7,
     "metadata": {},
     "output_type": "execute_result"
    }
   ],
   "source": [
    "last_mo_dist = requests.get(IP+\"/v1/contextMode/getLastMonthDistribution?dimension=gender&variable=emotion\")\n",
    "last_mo_dist_data = last_mo_dist.json()[\"data\"]\n",
    "last_mo_dist_data"
   ]
  },
  {
   "cell_type": "code",
   "execution_count": 8,
   "metadata": {
    "slideshow": {
     "slide_type": "subslide"
    }
   },
   "outputs": [
    {
     "data": {
      "image/png": "[encoded data removed]",
      "text/plain": [
       "<Figure size 432x288 with 1 Axes>"
      ]
     },
     "metadata": {
      "needs_background": "light"
     },
     "output_type": "display_data"
    }
   ],
   "source": [
    "last_mo_emo_perc_male = [float(elem[1]*100) for elem in last_mo_dist_data[\"male\"].items()]\n",
    "last_mo_emo_perc_female = [float(elem[1]*100) for elem in last_mo_dist_data[\"female\"].items()]\n",
    "last_mo_emotion = [elem[0] for elem in last_mo_dist_data[\"male\"].items()]\n",
    "\n",
    "x = [0,1,2,3,4] \n",
    "width = 0.35      \n",
    "plt.bar(x, last_mo_emo_perc_male, width, label='Men')\n",
    "plt.bar(list(map(lambda xi: xi + width, x)), last_mo_emo_perc_female, width,\n",
    "    label='Women')\n",
    "\n",
    "plt.ylabel('Emotion percentage')\n",
    "plt.title('Emotion distribution by gender')\n",
    "\n",
    "plt.xticks(list(map(lambda xi: xi + width / 2, x)), ('anger', 'happy', 'neutral', 'sad', 'surprise'))\n",
    "plt.legend(loc='best')\n",
    "plt.show()"
   ]
  },
  {
   "cell_type": "markdown",
   "metadata": {
    "slideshow": {
     "slide_type": "slide"
    }
   },
   "source": [
    "## Get last hour distribution\n",
    "Get the distribution of a variable in relation with a dimension, in the last hour.\n",
    "\n",
    "In this case, we are asking for the distribution of the age level with regard to the gender of the customers in the last hour.\n"
   ]
  },
  {
   "cell_type": "code",
   "execution_count": 9,
   "metadata": {
    "slideshow": {
     "slide_type": "subslide"
    }
   },
   "outputs": [
    {
     "data": {
      "text/plain": [
       "{'female': {'23': 0.08695652173913043,\n",
       "  '24': 0.08695652173913043,\n",
       "  '25': 0.2608695652173913,\n",
       "  '26': 0.17391304347826086,\n",
       "  '27': 0.043478260869565216,\n",
       "  '28': 0.043478260869565216,\n",
       "  '29': 0.08695652173913043,\n",
       "  '30': 0.043478260869565216,\n",
       "  '33': 0.13043478260869565,\n",
       "  '38': 0.043478260869565216},\n",
       " 'male': {'22': 0.03225806451612903,\n",
       "  '24': 0.06451612903225806,\n",
       "  '25': 0.03225806451612903,\n",
       "  '26': 0.08064516129032258,\n",
       "  '27': 0.16129032258064516,\n",
       "  '28': 0.08064516129032258,\n",
       "  '29': 0.14516129032258066,\n",
       "  '30': 0.08064516129032258,\n",
       "  '31': 0.04838709677419355,\n",
       "  '32': 0.016129032258064516,\n",
       "  '33': 0.06451612903225806,\n",
       "  '34': 0.03225806451612903,\n",
       "  '36': 0.03225806451612903,\n",
       "  '37': 0.03225806451612903,\n",
       "  '41': 0.03225806451612903,\n",
       "  '42': 0.03225806451612903,\n",
       "  '47': 0.016129032258064516,\n",
       "  '50': 0.016129032258064516}}"
      ]
     },
     "execution_count": 9,
     "metadata": {},
     "output_type": "execute_result"
    }
   ],
   "source": [
    "last_hh_distrib = requests.get(IP+\"/v1/contextMode/getLastMonthDistribution?dimension=gender&variable=age\")\n",
    "last_hh_distrib_data = last_hh_distrib.json()[\"data\"]\n",
    "last_hh_distrib_data"
   ]
  },
  {
   "cell_type": "code",
   "execution_count": 10,
   "metadata": {
    "slideshow": {
     "slide_type": "subslide"
    }
   },
   "outputs": [
    {
     "data": {
      "image/png": "[encoded data removed]",
      "text/plain": [
       "<Figure size 432x288 with 1 Axes>"
      ]
     },
     "metadata": {
      "needs_background": "light"
     },
     "output_type": "display_data"
    }
   ],
   "source": [
    "last_hh_age_perc_male = [float(elem[1]*100) for elem in last_hh_distrib_data[\"male\"].items()]\n",
    "last_hh_age_male = [elem[0] for elem in last_hh_distrib_data[\"male\"].items()]\n",
    "\n",
    "x = last_hh_age_male \n",
    "width = 0.35      \n",
    "plt.bar(x, last_hh_age_perc_male)\n",
    "\n",
    "plt.ylabel('Age percentage')\n",
    "plt.title('Age distribution of male clients in the last hour')\n",
    "\n",
    "plt.show()"
   ]
  },
  {
   "cell_type": "code",
   "execution_count": 11,
   "metadata": {
    "slideshow": {
     "slide_type": "subslide"
    }
   },
   "outputs": [
    {
     "data": {
      "image/png": "[encoded data removed]",
      "text/plain": [
       "<Figure size 432x288 with 1 Axes>"
      ]
     },
     "metadata": {
      "needs_background": "light"
     },
     "output_type": "display_data"
    }
   ],
   "source": [
    "last_hh_age_perc_female = [float(elem[1]*100) for elem in last_hh_distrib_data[\"female\"].items()]\n",
    "last_hh_age_female = [elem[0] for elem in last_hh_distrib_data[\"female\"].items()]\n",
    "\n",
    "x = last_hh_age_female \n",
    "width = 0.35      \n",
    "plt.bar(x, last_hh_age_perc_female)\n",
    "\n",
    "plt.ylabel('Age percentage')\n",
    "plt.title('Age distribution of female clients in the last hour')\n",
    "\n",
    "plt.show()"
   ]
  },
  {
   "cell_type": "markdown",
   "metadata": {
    "slideshow": {
     "slide_type": "slide"
    }
   },
   "source": [
    "## Get Time Distribution\n",
    "Get the time distribution of a specific variable in a given time range. Optionally, you can also specify the time binning."
   ]
  },
  {
   "cell_type": "markdown",
   "metadata": {
    "slideshow": {
     "slide_type": "slide"
    }
   },
   "source": [
    "### In this case we are asking for the average age of the customers for day of the week over the month of march."
   ]
  },
  {
   "cell_type": "code",
   "execution_count": 12,
   "metadata": {
    "slideshow": {
     "slide_type": "subslide"
    }
   },
   "outputs": [],
   "source": [
    "time_distrib_avg_age = requests.get(IP+\"/v1/contextMode/getTimeDistribution?start=01-03-2019&end=31-03-2019&variable=age&aggregation=avg&binning=dow\")"
   ]
  },
  {
   "cell_type": "code",
   "execution_count": 13,
   "metadata": {
    "slideshow": {
     "slide_type": "subslide"
    }
   },
   "outputs": [
    {
     "data": {
      "text/plain": [
       "{'thursday': 36.25,\n",
       " 'tuesday': 29.014285714285716,\n",
       " 'wednesday': 29.727272727272727}"
      ]
     },
     "execution_count": 13,
     "metadata": {},
     "output_type": "execute_result"
    }
   ],
   "source": [
    "time_distrib_avg_age.json()[\"data\"]"
   ]
  },
  {
   "cell_type": "code",
   "execution_count": 14,
   "metadata": {},
   "outputs": [
    {
     "data": {
      "image/png": "[encoded data removed]",
      "text/plain": [
       "<Figure size 432x288 with 1 Axes>"
      ]
     },
     "metadata": {
      "needs_background": "light"
     },
     "output_type": "display_data"
    }
   ],
   "source": [
    "avg_age = [elem[1] for elem in time_distrib_avg_age.json()[\"data\"].items()]\n",
    "days = [elem[0] for elem in time_distrib_avg_age.json()[\"data\"].items()]\n",
    "plt.scatter(days,avg_age)\n",
    "plt.show()"
   ]
  },
  {
   "cell_type": "markdown",
   "metadata": {
    "slideshow": {
     "slide_type": "slide"
    }
   },
   "source": [
    "### In this case we are asking for the count of customers for day of the week over the month of march."
   ]
  },
  {
   "cell_type": "code",
   "execution_count": 15,
   "metadata": {
    "slideshow": {
     "slide_type": "subslide"
    }
   },
   "outputs": [],
   "source": [
    "time_distrib_count_people_by_day = requests.get(IP+\"/v1/contextMode/getTimeDistribution?start=01-03-2019&end=31-03-2019&variable=gender&aggregation=count&binning=dow\")"
   ]
  },
  {
   "cell_type": "code",
   "execution_count": 16,
   "metadata": {
    "slideshow": {
     "slide_type": "subslide"
    }
   },
   "outputs": [
    {
     "data": {
      "text/plain": [
       "{'thursday': 4, 'tuesday': 70, 'wednesday': 11}"
      ]
     },
     "execution_count": 16,
     "metadata": {},
     "output_type": "execute_result"
    }
   ],
   "source": [
    "time_distrib_count_people_by_day.json()[\"data\"]"
   ]
  },
  {
   "cell_type": "code",
   "execution_count": 17,
   "metadata": {
    "slideshow": {
     "slide_type": "subslide"
    }
   },
   "outputs": [
    {
     "data": {
      "image/png": "[encoded data removed]",
      "text/plain": [
       "<Figure size 432x288 with 1 Axes>"
      ]
     },
     "metadata": {
      "needs_background": "light"
     },
     "output_type": "display_data"
    }
   ],
   "source": [
    "days = [elem[0] for elem in time_distrib_count_people_by_day.json()[\"data\"].items()]\n",
    "people_count = [elem[1] for elem in time_distrib_count_people_by_day.json()[\"data\"].items()]\n",
    "plt.bar(days,people_count)\n",
    "plt.show()"
   ]
  },
  {
   "cell_type": "markdown",
   "metadata": {
    "slideshow": {
     "slide_type": "slide"
    }
   },
   "source": [
    "### Distribution of customers emotions over the last month"
   ]
  },
  {
   "cell_type": "code",
   "execution_count": 18,
   "metadata": {
    "slideshow": {
     "slide_type": "subslide"
    }
   },
   "outputs": [
    {
     "data": {
      "text/plain": [
       "{'emotion': {'anger': 0.15620457231222412,\n",
       "  'happy': 0.16172950247272327,\n",
       "  'neutral': 0.46839931212533614,\n",
       "  'sad': 0.11576740995448558,\n",
       "  'surprise': 0.09789920313523102}}"
      ]
     },
     "execution_count": 18,
     "metadata": {},
     "output_type": "execute_result"
    }
   ],
   "source": [
    "time_distrib_emotions = requests.get(IP+\"/v1/contextMode/getTimeDistribution?start=01-03-2019&end=31-03-2019&variable=emotion&aggregation=avg\")\n",
    "time_distrib_emotions.json()[\"data\"]"
   ]
  },
  {
   "cell_type": "code",
   "execution_count": 19,
   "metadata": {
    "slideshow": {
     "slide_type": "subslide"
    }
   },
   "outputs": [
    {
     "data": {
      "image/png": "[encoded data removed]",
      "text/plain": [
       "<Figure size 432x288 with 1 Axes>"
      ]
     },
     "metadata": {},
     "output_type": "display_data"
    }
   ],
   "source": [
    "em_perc = [float(elem[1]*100) for elem in time_distrib_emotions.json()[\"data\"][\"emotion\"].items()]\n",
    "emotion = [elem[0] for elem in time_distrib_emotions.json()[\"data\"][\"emotion\"].items()]\n",
    "plt.pie(em_perc, labels=emotion)\n",
    "plt.show()"
   ]
  }
 ],
 "metadata": {
  "celltoolbar": "Slideshow",
  "kernelspec": {
   "display_name": "Python 3",
   "language": "python",
   "name": "python3"
  },
  "language_info": {
   "codemirror_mode": {
    "name": "ipython",
    "version": 3
   },
   "file_extension": ".py",
   "mimetype": "text/x-python",
   "name": "python",
   "nbconvert_exporter": "python",
   "pygments_lexer": "ipython3",
   "version": "3.6.8"
  }
 },
 "nbformat": 4,
 "nbformat_minor": 2
}
